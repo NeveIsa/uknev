{
 "cells": [
  {
   "cell_type": "code",
   "execution_count": 6,
   "id": "372232ba-923f-4822-b205-4fae56626d77",
   "metadata": {},
   "outputs": [],
   "source": [
    "import numpy as np\n",
    "\n",
    "from unknownev import imputer"
   ]
  },
  {
   "cell_type": "code",
   "execution_count": 22,
   "id": "6da00993-8b70-4aea-8486-14ea9a68e0a4",
   "metadata": {},
   "outputs": [],
   "source": [
    "def random_tensor_and_mask(shape, missing_fraction=0.1):\n",
    "    t = np.random.random(shape)*1000\n",
    "    m = (np.random.random(shape) > missing_fraction)*1\n",
    "    print(\"missing percent:\",100*(1 - m.sum()/np.prod(m.shape)) )\n",
    "    return t,m"
   ]
  },
  {
   "cell_type": "code",
   "execution_count": 27,
   "id": "a6661bb3-cacd-49e3-b184-20ee4e19853b",
   "metadata": {},
   "outputs": [
    {
     "data": {
      "text/plain": [
       "<function unknownev.imputer.impute(tensor, rank=1, mask=array([1.]), n_iters=100, tol=1e-07, verbose=True)>"
      ]
     },
     "execution_count": 27,
     "metadata": {},
     "output_type": "execute_result"
    }
   ],
   "source": [
    "imputer.impute"
   ]
  },
  {
   "cell_type": "code",
   "execution_count": 39,
   "id": "a89ea128-9681-47b5-8124-883352cb7265",
   "metadata": {},
   "outputs": [
    {
     "name": "stdout",
     "output_type": "stream",
     "text": [
      "missing percent: 87.71428571428571\n"
     ]
    },
    {
     "name": "stderr",
     "output_type": "stream",
     "text": [
      "  3%|\u001b[38;2;0;255;209m▉                               \u001b[0m| 31/1000 [00:00<00:02, 390.85it/s, ie=9.6938254, re=9.1370508]\u001b[0m\n"
     ]
    }
   ],
   "source": [
    "tensor,mask = random_tensor_and_mask((10,7,5), 0.9)\n",
    "a,b,c, re, ie = imputer.impute(tensor, rank=5, mask=mask, n_iters = 1000)"
   ]
  },
  {
   "cell_type": "code",
   "execution_count": 40,
   "id": "df5cd49b-2dd3-4706-8450-ee8c7459b478",
   "metadata": {},
   "outputs": [
    {
     "data": {
      "text/plain": [
       "((10, 5), (7, 5), (5, 5))"
      ]
     },
     "execution_count": 40,
     "metadata": {},
     "output_type": "execute_result"
    }
   ],
   "source": [
    "a.shape, b.shape, c.shape"
   ]
  },
  {
   "cell_type": "code",
   "execution_count": 42,
   "id": "2252ebad-3175-49d5-8666-d5726d8f9f30",
   "metadata": {},
   "outputs": [],
   "source": [
    "# tensor"
   ]
  },
  {
   "cell_type": "code",
   "execution_count": null,
   "id": "c83f69ac-8deb-4c87-a98f-7f974cf313a3",
   "metadata": {},
   "outputs": [],
   "source": []
  }
 ],
 "metadata": {
  "kernelspec": {
   "display_name": "Python 3",
   "language": "python",
   "name": "python3"
  },
  "language_info": {
   "codemirror_mode": {
    "name": "ipython",
    "version": 3
   },
   "file_extension": ".py",
   "mimetype": "text/x-python",
   "name": "python",
   "nbconvert_exporter": "python",
   "pygments_lexer": "ipython3",
   "version": "3.6.9"
  }
 },
 "nbformat": 4,
 "nbformat_minor": 5
}
